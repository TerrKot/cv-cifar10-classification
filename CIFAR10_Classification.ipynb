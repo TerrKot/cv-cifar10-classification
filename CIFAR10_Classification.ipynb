{
  "cells": [
    {
      "cell_type": "markdown",
      "metadata": {},
      "source": [
        "# CIFAR-10 CNN Classification\n",
        "\n",
        "Сравнение Baseline и Improved CNN архитектур на датасете CIFAR-10.\n",
        "\n",
        "**Ключевое открытие**: Improved CNN - \"медленный стартер\", который превосходит Baseline только при длительном обучении!\n",
        "\n",
        "## 🚀 Быстрый запуск\n",
        "\n",
        "1. Запустите все ячейки (Runtime → Run all)\n",
        "2. Результаты появятся через 5-10 минут\n",
        "3. Графики и отчеты сохранятся в папке `results/`\n"
      ]
    },
    {
      "cell_type": "markdown",
      "metadata": {},
      "source": [
        "## 📦 Установка зависимостей\n"
      ]
    },
    {
      "cell_type": "code",
      "execution_count": null,
      "metadata": {},
      "outputs": [],
      "source": [
        "# Установка зависимостей\n",
        "%pip install torch==1.12.1 torchvision==0.13.1 matplotlib==3.5.3 numpy==1.21.6 psutil==5.9.4\n"
      ]
    },
    {
      "cell_type": "markdown",
      "metadata": {},
      "source": [
        "## 📥 Клонирование репозитория\n"
      ]
    },
    {
      "cell_type": "code",
      "execution_count": null,
      "metadata": {},
      "outputs": [],
      "source": [
        "# Клонирование репозитория\n",
        "!git clone https://github.com/your-repo/cv-cifar10-classification.git\n",
        "!cd cv-cifar10-classification\n"
      ]
    },
    {
      "cell_type": "markdown",
      "metadata": {},
      "source": [
        "## 🏃‍♂️ Запуск экспериментов\n"
      ]
    },
    {
      "cell_type": "code",
      "execution_count": null,
      "metadata": {},
      "outputs": [],
      "source": [
        "# Переход в директорию проекта\n",
        "import os\n",
        "os.chdir('cv-cifar10-classification')\n",
        "\n",
        "# Запуск всех экспериментов\n",
        "!python run_all_tests.py\n"
      ]
    },
    {
      "cell_type": "markdown",
      "metadata": {},
      "source": [
        "## 📊 Просмотр результатов\n"
      ]
    },
    {
      "cell_type": "code",
      "execution_count": null,
      "metadata": {},
      "outputs": [],
      "source": [
        "# Просмотр результатов\n",
        "import matplotlib.pyplot as plt\n",
        "import matplotlib.image as mpimg\n",
        "from IPython.display import Image, display\n",
        "\n",
        "# Список доступных графиков\n",
        "result_files = [\n",
        "    'results/comparison_5_vs_25_epochs.png',\n",
        "    'results/final_analysis/accuracy_comparison.png',\n",
        "    'results/final_analysis/learning_efficiency.png',\n",
        "    'results/5_epochs/baseline_5epochs_results.png',\n",
        "    'results/5_epochs/improved_5epochs_results.png',\n",
        "    'results/25_epochs/baseline_25epochs_results.png',\n",
        "    'results/25_epochs/improved_25epochs_results.png'\n",
        "]\n",
        "\n",
        "print(\"📈 Доступные графики:\")\n",
        "for i, file in enumerate(result_files, 1):\n",
        "    if os.path.exists(file):\n",
        "        print(f\"{i}. {file}\")\n",
        "    else:\n",
        "        print(f\"{i}. {file} (не найден)\")\n"
      ]
    },
    {
      "cell_type": "code",
      "execution_count": null,
      "metadata": {},
      "outputs": [],
      "source": [
        "# Показ основного графика сравнения\n",
        "if os.path.exists('results/comparison_5_vs_25_epochs.png'):\n",
        "    display(Image('results/comparison_5_vs_25_epochs.png'))\n",
        "else:\n",
        "    print(\"График сравнения не найден. Запустите эксперименты сначала.\")\n"
      ]
    },
    {
      "cell_type": "markdown",
      "metadata": {},
      "source": [
        "## 📋 Сводка результатов\n",
        "\n",
        "### Ключевые выводы:\n",
        "\n",
        "1. **Improved CNN - \"медленный стартер\"** - показывает худшие результаты на 5 эпохах\n",
        "2. **Improved CNN превосходит Baseline** на 25 эпохах (+2.93%)\n",
        "3. **Baseline эффективнее** для быстрого прототипирования\n",
        "4. **Improved CNN лучше** для финального решения при длительном обучении\n",
        "\n",
        "### Рекомендации:\n",
        "- Используйте **Baseline CNN** для быстрого тестирования идей\n",
        "- Используйте **Improved CNN** для финального решения с длительным обучением\n",
        "- **Data Augmentation** помогает, но требует больше времени обучения\n",
        "\n",
        "---\n",
        "\n",
        "**Проект**: [GitHub Repository](https://github.com/your-repo/cv-cifar10-classification)  \n",
        "**Лицензия**: MIT  \n",
        "**Model Card**: [MODEL_CARD.md](https://github.com/your-repo/cv-cifar10-classification/blob/main/MODEL_CARD.md)\n"
      ]
    }
  ],
  "metadata": {
    "language_info": {
      "name": "python"
    }
  },
  "nbformat": 4,
  "nbformat_minor": 2
}
